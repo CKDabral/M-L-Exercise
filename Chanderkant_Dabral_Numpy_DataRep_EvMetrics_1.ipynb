{
  "nbformat": 4,
  "nbformat_minor": 0,
  "metadata": {
    "colab": {
      "name": "Chanderkant Dabral - Numpy_DataRep_EvMetrics_1.ipynb",
      "version": "0.3.2",
      "provenance": [],
      "collapsed_sections": [],
      "include_colab_link": true
    },
    "language_info": {
      "codemirror_mode": {
        "name": "ipython",
        "version": 3
      },
      "file_extension": ".py",
      "mimetype": "text/x-python",
      "name": "python",
      "nbconvert_exporter": "python",
      "pygments_lexer": "ipython3",
      "version": "3.6.8"
    },
    "kernelspec": {
      "display_name": "Python 3",
      "language": "python",
      "name": "python3"
    }
  },
  "cells": [
    {
      "cell_type": "markdown",
      "metadata": {
        "id": "view-in-github",
        "colab_type": "text"
      },
      "source": [
        "<a href=\"https://colab.research.google.com/github/CKDabral/M-L-Exercise/blob/master/Chanderkant_Dabral_Numpy_DataRep_EvMetrics_1.ipynb\" target=\"_parent\"><img src=\"https://colab.research.google.com/assets/colab-badge.svg\" alt=\"Open In Colab\"/></a>"
      ]
    },
    {
      "cell_type": "markdown",
      "metadata": {
        "id": "oA_wKIPy7XRs",
        "colab_type": "text"
      },
      "source": [
        "### General Instructions\n",
        "- Use as little of inbuilt library functions for this assignment as you can.\n",
        "- For eg., do not use direct library functions that are available for mean, standard deviation etc., but try to write those functions from scratch based on their formulae"
      ]
    },
    {
      "cell_type": "code",
      "metadata": {
        "id": "xNOaaXXm7XRw",
        "colab_type": "code",
        "colab": {}
      },
      "source": [
        "import numpy as np"
      ],
      "execution_count": 0,
      "outputs": []
    },
    {
      "cell_type": "markdown",
      "metadata": {
        "id": "jEI-bM8E7XR1",
        "colab_type": "text"
      },
      "source": [
        "### Mean, Variance, Std\n",
        "Write a function that returns Mean, Variance and Std of a dataset"
      ]
    },
    {
      "cell_type": "code",
      "metadata": {
        "id": "NMajOOtT7XR2",
        "colab_type": "code",
        "colab": {}
      },
      "source": [
        "def meanVarianceStd(x):\n",
        "    \"\"\"\n",
        "    Inputs:\n",
        "        x: numpy array of shape (samples, feature 1, feature 2, ..)\n",
        "    Outputs:\n",
        "        mean: numpy array of shape (feature1, feature2, ...) contatining mean of samples in x\n",
        "        variance : numpy array of shape (feature1, feature2, ...) contatining variance of samples in x\n",
        "        std: numpy array of shape (feature1, feature2, ...) contatining std of samples in x\n",
        "    \"\"\"\n",
        "    ### Your Code Here\n",
        "    samples=x.shape[0]\n",
        "    a=np.sum(x,axis=0)\n",
        "    shap=a.shape\n",
        "    div=np.ones((shap))\n",
        "    div=samples*div\n",
        "    mean=a/div\n",
        "    diff=x-mean\n",
        "    sq=diff**2\n",
        "    sum=np.sum(sq,axis=0)\n",
        "    variance=(sum/samples)\n",
        "    std=np.sqrt(variance)    \n",
        "    return(mean,variance,std)\n",
        "\n",
        "    "
      ],
      "execution_count": 0,
      "outputs": []
    },
    {
      "cell_type": "markdown",
      "metadata": {
        "id": "-nB2ANUw7XR9",
        "colab_type": "text"
      },
      "source": [
        "### Shuffle Dataset\n",
        "In ML, often when you start, you need to shuffle your dataset randomly before you begin training it. But this shuffling shouldn't break the correspondence between X and Y. For eg., if X[0] is a sample and Y[0], the correct output corresponding to X[0] is the flower rose. Suppose after shuffling what was earlier at X[0] is now at X[10], then Y[10] should also now be rose. "
      ]
    },
    {
      "cell_type": "markdown",
      "metadata": {
        "id": "ceefOYNM7XR_",
        "colab_type": "text"
      },
      "source": [
        "#### Generate Data\n",
        "Generate a dataset by generating X and Y. <br>\n",
        "- X should be ofshape (samples, features) where each sample is a random numpy array of shape (features, )\n",
        "- Y should be of shape (samples, ) where each sample is a random number between (0, classes-1)"
      ]
    },
    {
      "cell_type": "code",
      "metadata": {
        "id": "-6zgwSJl7XSB",
        "colab_type": "code",
        "colab": {}
      },
      "source": [
        "def genXY(samples, features, classes):\n",
        "    \"\"\"\n",
        "    Inputs:\n",
        "        samples: int, number of samples in dataset\n",
        "        features: int, number features in dataset\n",
        "        classes: int, number of output classes in dataset\n",
        "    \n",
        "    Outputs:\n",
        "        X: numpy array of shape (samples, features)\n",
        "        Y: numpy array of shape (samples,)\n",
        "    \"\"\"\n",
        "    ### Your Code Here\n",
        "    X=np.random.rand(samples,features)\n",
        "    Y=np.random.randint(0,classes,size=(samples,))\n",
        "    return X,Y"
      ],
      "execution_count": 0,
      "outputs": []
    },
    {
      "cell_type": "markdown",
      "metadata": {
        "id": "FrSTj-FX7XSF",
        "colab_type": "text"
      },
      "source": [
        "#### Shuffle Data\n",
        "Write a function that shuffles the data generated using genXY"
      ]
    },
    {
      "cell_type": "code",
      "metadata": {
        "id": "-T_LVUD_7XSG",
        "colab_type": "code",
        "colab": {}
      },
      "source": [
        "def shuffle(X, Y):\n",
        "    \"\"\"\n",
        "    Inputs:\n",
        "        X : numpy array of shape (samples, features)\n",
        "        Y: numpy array of shape(samples, )\n",
        "    Outputs:\n",
        "        X_shuffled: numpy array, same shape as X, but randomly shuffled\n",
        "        Y_shuffled: nummpy array, same shape as Y, but randomly shuffled\n",
        "    \"\"\"\n",
        "    ### Your Code Here\n",
        "    d={}\n",
        "    for i,j in zip(X,Y):\n",
        "      d.update([(tuple(i),j)])\n",
        "    np.random.shuffle(X)\n",
        "    Y=[]\n",
        "    for i in X:\n",
        "      Y.append(d[tuple(i)])\n",
        "    Y=np.array(Y)\n",
        "    return X,Y\n"
      ],
      "execution_count": 0,
      "outputs": []
    },
    {
      "cell_type": "markdown",
      "metadata": {
        "id": "zTRYi2ke7XSM",
        "colab_type": "text"
      },
      "source": [
        "#### Test\n",
        "How can you test whether your shuffle function is working correctly? Write a program that can test whether the correspondence between input and output samples has been preserved."
      ]
    },
    {
      "cell_type": "code",
      "metadata": {
        "id": "UcWIIU5b7XSP",
        "colab_type": "code",
        "outputId": "e54a49cf-5c78-46a9-d1da-fc167542c971",
        "colab": {
          "base_uri": "https://localhost:8080/",
          "height": 187
        }
      },
      "source": [
        "### Your Code here\n",
        "samples=5\n",
        "features=2\n",
        "classes=3\n",
        "X,Y=genXY(samples, features, classes)\n",
        "print('Before shuffle ',X,Y)\n",
        "X,Y=shuffle(X, Y)\n",
        "print('After shuffle',X,Y)\n"
      ],
      "execution_count": 34,
      "outputs": [
        {
          "output_type": "stream",
          "text": [
            "Before shuffle  [[0.63112629 0.78090548]\n",
            " [0.48472379 0.21671797]\n",
            " [0.20478135 0.94758167]\n",
            " [0.59806373 0.15743058]\n",
            " [0.43658532 0.66051048]] [1 1 1 0 2]\n",
            "After shuffle [[0.43658532 0.66051048]\n",
            " [0.63112629 0.78090548]\n",
            " [0.20478135 0.94758167]\n",
            " [0.48472379 0.21671797]\n",
            " [0.59806373 0.15743058]] [2 1 1 1 0]\n"
          ],
          "name": "stdout"
        }
      ]
    },
    {
      "cell_type": "markdown",
      "metadata": {
        "id": "UP7VVUkt7XST",
        "colab_type": "text"
      },
      "source": [
        "### Confusion Matrix\n",
        "Given $Y_{actual}$ and $Y_{predicted}$, construct a confusion matrix."
      ]
    },
    {
      "cell_type": "markdown",
      "metadata": {
        "id": "DXVE80N37XSU",
        "colab_type": "text"
      },
      "source": [
        "#### Number of output classes\n",
        "Given $Y_{actual}$ and $Y_{predicted}$, find number of unique output classes"
      ]
    },
    {
      "cell_type": "code",
      "metadata": {
        "id": "nCrw7yeI7XSW",
        "colab_type": "code",
        "colab": {}
      },
      "source": [
        "def num_output_classes(Yactual, Ypredicted):\n",
        "    \"\"\"\n",
        "    Inputs:\n",
        "        Yactual: numpy array of shape (samples, ) with actual output values\n",
        "        Ypredicted: numpy array of shape (samples, ) with predicted output values\n",
        "    Outputs:\n",
        "        Ny: int, number of unique output classes \n",
        "    \"\"\"\n",
        "    ### Your code here\n",
        "    Ny=len(np.unique(Yactual))\n",
        "    return Ny"
      ],
      "execution_count": 0,
      "outputs": []
    },
    {
      "cell_type": "markdown",
      "metadata": {
        "id": "8XHjunpc7XSa",
        "colab_type": "text"
      },
      "source": [
        "#### Construct comnfusion matrix"
      ]
    },
    {
      "cell_type": "code",
      "metadata": {
        "id": "a4FjhOEW7XSb",
        "colab_type": "code",
        "outputId": "245b9023-6ff6-42de-ad37-26a3cc013c4e",
        "colab": {
          "base_uri": "https://localhost:8080/",
          "height": 68
        }
      },
      "source": [
        "def gen_confusion_matrix(Yactual, Ypredicted,Ny):\n",
        "    \"\"\"\n",
        "    Inputs:\n",
        "        Yactual: numpy array of shape (samples, ) with actual output values\n",
        "        Ypredicted: numpy array of shape (samples, ) with predicted output values\n",
        "        Ny: number of unique output classes\n",
        "    Outputs:\n",
        "        cm: numpy array of shape (Ny, Ny) containing confusion matrix \n",
        "    \"\"\"\n",
        "    ### Your code here\n",
        "    cm=np.zeros((Ny,Ny))\n",
        "    unq=list(np.unique(Yactual))\n",
        "    for i,j in zip(Yactual,Ypredicted):\n",
        "        m=unq.index(i)\n",
        "        n=unq.index(j)\n",
        "        cm[m,n]+=1\n",
        "    return cm\n",
        "\n",
        "gen_confusion_matrix([1,1,2,2,2,3,3,3,1,2],[1,1,1,2,2,2,3,3,3,2],3)    "
      ],
      "execution_count": 36,
      "outputs": [
        {
          "output_type": "execute_result",
          "data": {
            "text/plain": [
              "array([[2., 0., 1.],\n",
              "       [1., 3., 0.],\n",
              "       [0., 1., 2.]])"
            ]
          },
          "metadata": {
            "tags": []
          },
          "execution_count": 36
        }
      ]
    },
    {
      "cell_type": "markdown",
      "metadata": {
        "id": "GJViHJ5x7XSf",
        "colab_type": "text"
      },
      "source": [
        "### Max Precision class\n",
        "Given a confusion matrix, find out the class which has the maximum precision."
      ]
    },
    {
      "cell_type": "code",
      "metadata": {
        "id": "Ad0GELT97XSh",
        "colab_type": "code",
        "outputId": "c325769a-776b-44c8-b605-4bc89e0c1ec8",
        "colab": {
          "base_uri": "https://localhost:8080/",
          "height": 34
        }
      },
      "source": [
        "def max_precision(cm):\n",
        "    \"\"\"\n",
        "    Inputs:\n",
        "        cm: numpy array containing confusion matrix\n",
        "    Outputs:\n",
        "        max_prec: int, class label which has maximum precision out of all classes\n",
        "    \"\"\"\n",
        "    ### Your code here    \n",
        "    clss=cm.shape[0]   #total number of classes\n",
        "    max=0\n",
        "    pos=-1\n",
        "    for i in range(clss):\n",
        "      total_predict=np.sum(cm[:,i])\n",
        "      correct_predict=cm[i,i]\n",
        "      m=(correct_predict/total_predict)\n",
        "      if max<m:\n",
        "        pos=i\n",
        "        max=m\n",
        "    return max,pos\n",
        "max_precision(gen_confusion_matrix([1,1,2,2,2,3,3,3,1,2],[1,1,1,2,2,2,3,3,3,2],3) )"
      ],
      "execution_count": 37,
      "outputs": [
        {
          "output_type": "execute_result",
          "data": {
            "text/plain": [
              "(0.75, 1)"
            ]
          },
          "metadata": {
            "tags": []
          },
          "execution_count": 37
        }
      ]
    },
    {
      "cell_type": "code",
      "metadata": {
        "id": "ROY1UAVCG8Pm",
        "colab_type": "code",
        "colab": {}
      },
      "source": [
        ""
      ],
      "execution_count": 0,
      "outputs": []
    }
  ]
}