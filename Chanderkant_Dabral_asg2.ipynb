{
  "nbformat": 4,
  "nbformat_minor": 0,
  "metadata": {
    "colab": {
      "name": "Chanderkant Dabral - asg2.ipynb",
      "version": "0.3.2",
      "provenance": [],
      "collapsed_sections": [],
      "include_colab_link": true
    },
    "language_info": {
      "codemirror_mode": {
        "name": "ipython",
        "version": 3
      },
      "file_extension": ".py",
      "mimetype": "text/x-python",
      "name": "python",
      "nbconvert_exporter": "python",
      "pygments_lexer": "ipython3",
      "version": "3.6.8"
    },
    "kernelspec": {
      "display_name": "Python 3",
      "language": "python",
      "name": "python3"
    }
  },
  "cells": [
    {
      "cell_type": "markdown",
      "metadata": {
        "id": "view-in-github",
        "colab_type": "text"
      },
      "source": [
        "<a href=\"https://colab.research.google.com/github/CKDabral/M-L-Exercise/blob/master/Chanderkant_Dabral_asg2.ipynb\" target=\"_parent\"><img src=\"https://colab.research.google.com/assets/colab-badge.svg\" alt=\"Open In Colab\"/></a>"
      ]
    },
    {
      "cell_type": "markdown",
      "metadata": {
        "id": "uV6IQ1RwlyZY",
        "colab_type": "text"
      },
      "source": [
        "### Batch Splitting\n",
        "Given a numpy array $x$ of shape (samples, features) and parameter $m$ - batch size. Randomly shuffle $x$ and split it into batches of size $m$. The last batch may contain less than $m$ samples. Return the batches in a list."
      ]
    },
    {
      "cell_type": "code",
      "metadata": {
        "id": "stCRW0HRlyZa",
        "colab_type": "code",
        "colab": {
          "base_uri": "https://localhost:8080/",
          "height": 68
        },
        "outputId": "3c2fb313-d529-4269-cba4-6b2f3597a55d"
      },
      "source": [
        "### Your Code Here\n",
        "import numpy as np\n",
        "\n",
        "def shuffle(x):\n",
        "  a=np.copy(x)\n",
        "  np.random.shuffle(a)\n",
        "  return a\n",
        "\n",
        "def batch(x,m):\n",
        "  temp=np.array(shuffle(x))\n",
        "  batches=[]\n",
        "  j=0\n",
        "  if len(temp%m==0):\n",
        "    size=(len(x)//m)\n",
        "  else:\n",
        "    size=(len(x)//m)+1\n",
        "  for i in range(size):\n",
        "    batches.append(np.array(temp[j:j+m]))\n",
        "    j=j+m\n",
        "  return batches\n",
        "x=np.arange(20).reshape(4,5)\n",
        "batch(x,2)\n",
        "  "
      ],
      "execution_count": 17,
      "outputs": [
        {
          "output_type": "execute_result",
          "data": {
            "text/plain": [
              "[array([[ 0,  1,  2,  3,  4],\n",
              "        [15, 16, 17, 18, 19]]), array([[10, 11, 12, 13, 14],\n",
              "        [ 5,  6,  7,  8,  9]])]"
            ]
          },
          "metadata": {
            "tags": []
          },
          "execution_count": 17
        }
      ]
    },
    {
      "cell_type": "markdown",
      "metadata": {
        "id": "GNlOiMD4lyZf",
        "colab_type": "text"
      },
      "source": [
        "### Remove Outliers\n",
        "Given a numpy array $x$ of shape (samples, features) and parameter $threshold$, standardize the dataset first. Remove outliers from the dataset (all points which are more than $threshold$ number of standard deviations away from mean) And return this processed dataset."
      ]
    },
    {
      "cell_type": "code",
      "metadata": {
        "id": "OzWy_y5alyZg",
        "colab_type": "code",
        "colab": {
          "base_uri": "https://localhost:8080/",
          "height": 442
        },
        "outputId": "618974e6-4a9f-4a66-a361-d2c761d06bae"
      },
      "source": [
        "### Your Code Here\n",
        "def remove_outliers(x,threshold):\n",
        "  samples,features=x.shape\n",
        "  mean_x=np.mean(x,axis=0)\n",
        "  std_x=np.std(x,axis=0)\n",
        "  standard_x=(x-mean_x)/std_x\n",
        "  print(x,standard_x,sep='\\n')\n",
        "  print('Before X',x)\n",
        "  for i in range(samples):\n",
        "    for j in range(features):\n",
        "      if x[i][j]>threshold:\n",
        "        x[i][j]=mean_x[j]\n",
        "  print('After x',x)\n",
        "x=np.arange(50).reshape(5,10)\n",
        "remove_outliers(x,4)\n"
      ],
      "execution_count": 23,
      "outputs": [
        {
          "output_type": "stream",
          "text": [
            "[[ 0  1  2  3  4  5  6  7  8  9]\n",
            " [10 11 12 13 14 15 16 17 18 19]\n",
            " [20 21 22 23 24 25 26 27 28 29]\n",
            " [30 31 32 33 34 35 36 37 38 39]\n",
            " [40 41 42 43 44 45 46 47 48 49]]\n",
            "[[-1.41421356 -1.41421356 -1.41421356 -1.41421356 -1.41421356 -1.41421356\n",
            "  -1.41421356 -1.41421356 -1.41421356 -1.41421356]\n",
            " [-0.70710678 -0.70710678 -0.70710678 -0.70710678 -0.70710678 -0.70710678\n",
            "  -0.70710678 -0.70710678 -0.70710678 -0.70710678]\n",
            " [ 0.          0.          0.          0.          0.          0.\n",
            "   0.          0.          0.          0.        ]\n",
            " [ 0.70710678  0.70710678  0.70710678  0.70710678  0.70710678  0.70710678\n",
            "   0.70710678  0.70710678  0.70710678  0.70710678]\n",
            " [ 1.41421356  1.41421356  1.41421356  1.41421356  1.41421356  1.41421356\n",
            "   1.41421356  1.41421356  1.41421356  1.41421356]]\n",
            "Before X [[ 0  1  2  3  4  5  6  7  8  9]\n",
            " [10 11 12 13 14 15 16 17 18 19]\n",
            " [20 21 22 23 24 25 26 27 28 29]\n",
            " [30 31 32 33 34 35 36 37 38 39]\n",
            " [40 41 42 43 44 45 46 47 48 49]]\n",
            "After x [[ 0  1  2  3  4 25 26 27 28 29]\n",
            " [20 21 22 23 24 25 26 27 28 29]\n",
            " [20 21 22 23 24 25 26 27 28 29]\n",
            " [20 21 22 23 24 25 26 27 28 29]\n",
            " [20 21 22 23 24 25 26 27 28 29]]\n"
          ],
          "name": "stdout"
        }
      ]
    },
    {
      "cell_type": "markdown",
      "metadata": {
        "id": "ypcypjdwlyZk",
        "colab_type": "text"
      },
      "source": [
        "### One-hot encoding\n",
        "Given a list of strings $y$, with output samples. For eg., ['cat', 'dog', 'cat', 'mouse', ...]. One-hot encode this list and return the new output as a numpy array $Y_{oh}$"
      ]
    },
    {
      "cell_type": "code",
      "metadata": {
        "id": "vAk1xEJmlyZl",
        "colab_type": "code",
        "colab": {
          "base_uri": "https://localhost:8080/",
          "height": 136
        },
        "outputId": "182ccad1-d735-4e9c-e620-8caa600cfb9e"
      },
      "source": [
        "### Your Code Here\n",
        "def onehot(y):\n",
        "  Nclass=len(set(y))\n",
        "  array=np.array(y)\n",
        "  unq_lst=np.unique(array)\n",
        "  Ny=len(unq_lst)\n",
        "  encd_out=np.zeros((Ny,Ny))\n",
        "  for i in range(Ny):\n",
        "    encd_out[i,i]=1\n",
        "  print(encd_out,Ny)\n",
        "  Yo=[]\n",
        "  for i in y:\n",
        "    j=list(unq_lst).index(i)\n",
        "    Yo.append(encd_out[j])\n",
        "  return Yo\n",
        "onehot(['cat', 'dog', 'cat', 'mouse'])"
      ],
      "execution_count": 40,
      "outputs": [
        {
          "output_type": "stream",
          "text": [
            "[[1. 0. 0.]\n",
            " [0. 1. 0.]\n",
            " [0. 0. 1.]] 3\n"
          ],
          "name": "stdout"
        },
        {
          "output_type": "execute_result",
          "data": {
            "text/plain": [
              "[array([1., 0., 0.]),\n",
              " array([0., 1., 0.]),\n",
              " array([1., 0., 0.]),\n",
              " array([0., 0., 1.])]"
            ]
          },
          "metadata": {
            "tags": []
          },
          "execution_count": 40
        }
      ]
    },
    {
      "cell_type": "markdown",
      "metadata": {
        "id": "wNdT9KQolyZp",
        "colab_type": "text"
      },
      "source": [
        "### Generate Data, random points in circle\n",
        "You need to write a function that does the following. <br>\n",
        "Given a tuple $t$ denoting coordinates of the center of a circle and float $r$ denoting radius. <br>\n",
        "Generate a random point that lies within the circle and return it. Try to only the simple np.random.random function."
      ]
    },
    {
      "cell_type": "code",
      "metadata": {
        "id": "6MnHe6BUlyZq",
        "colab_type": "code",
        "colab": {}
      },
      "source": [
        "### Your Code Here\n",
        "\n",
        "def circle(t,radius):\n",
        "  x,y=t\n",
        "  x_range=x+radius-(x-radius)\n",
        "  x_par=x-radius\n",
        "  y_range=y+radius-(y-radius)\n",
        "  y_par=y-radius\n",
        "  x1=x_range*np.random.random()+x_par\n",
        "  y1=y_range*np.random.random()+y_par\n",
        "  return x1,y1"
      ],
      "execution_count": 0,
      "outputs": []
    },
    {
      "cell_type": "markdown",
      "metadata": {
        "id": "bnJ6YBYSlyZw",
        "colab_type": "text"
      },
      "source": [
        "### Rank array\n",
        "Rank the items in a multidimensional array 'arr'. <br>\n",
        "Define the rank of an item as its index in the sorted list of all items in 'arr' (starting from 0). <br>\n",
        "          Eg., consider arr = [0, 6, 14, 12, 11] <br>\n",
        "                  arr_sorted = [0, 6, 11, 12, 14] <br>\n",
        "                  So rank of 0 -> 0; 6->1; 11->2, 12->3, 14->4 <br>\n",
        "                  rankArray returns a list where each element is replaced by its rank <br>\n",
        "                  rankArray(arr) -> [0, 1, 4, 3, 2] <br>\n",
        "\n",
        "Write a function which takes as input a numpy array of shape (m, n) and returns a numpy array of shape(m,n) which contains the ranks corresponding to each element. The rank of an element in a multidimensional array $a$ is the same as its rank in the 1d array obtained by flattening $a$"
      ]
    },
    {
      "cell_type": "code",
      "metadata": {
        "id": "YWTTJcGzlyZx",
        "colab_type": "code",
        "colab": {
          "base_uri": "https://localhost:8080/",
          "height": 68
        },
        "outputId": "678b0f28-b4d5-4fdc-9c13-30073804db1d"
      },
      "source": [
        "def rank(a):\n",
        "  flat_arr=a.flatten()\n",
        "  sort_arr=np.sort(flat_arr)\n",
        "  lst=list(sort_arr)\n",
        "  for i in range(a.shape[0]):\n",
        "    for j in range(a.shape[1]):\n",
        "      a[i,j]=lst.index(a[i,j])\n",
        "  return a\n",
        "rank(np.random.randint(10,100,12).reshape(3,4))"
      ],
      "execution_count": 64,
      "outputs": [
        {
          "output_type": "execute_result",
          "data": {
            "text/plain": [
              "array([[ 1, 10,  6,  9],\n",
              "       [ 3,  4,  8,  0],\n",
              "       [ 2,  5, 11,  7]])"
            ]
          },
          "metadata": {
            "tags": []
          },
          "execution_count": 64
        }
      ]
    },
    {
      "cell_type": "code",
      "metadata": {
        "id": "P6_JZfXf7PxZ",
        "colab_type": "code",
        "colab": {}
      },
      "source": [
        ""
      ],
      "execution_count": 0,
      "outputs": []
    }
  ]
}