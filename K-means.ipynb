{
 "cells": [
  {
   "cell_type": "code",
   "execution_count": 48,
   "metadata": {},
   "outputs": [],
   "source": [
    "import numpy as np\n",
    "import pandas as pd\n",
    "import sklearn as sk\n",
    "from sklearn.cluster import KMeans\n",
    "import matplotlib.pyplot as plt"
   ]
  },
  {
   "cell_type": "code",
   "execution_count": 4,
   "metadata": {},
   "outputs": [],
   "source": [
    "mean1=[np.random.randint(100),np.random.randint(100)]\n",
    "mean2=[np.random.randint(100),np.random.randint(100)]"
   ]
  },
  {
   "cell_type": "code",
   "execution_count": 5,
   "metadata": {},
   "outputs": [],
   "source": [
    "cov=[[100,0],[0,100]]"
   ]
  },
  {
   "cell_type": "code",
   "execution_count": 20,
   "metadata": {},
   "outputs": [],
   "source": [
    "x1,y1=np.random.multivariate_normal(mean1,cov,100).T\n",
    "x2,y2=np.random.multivariate_normal(mean2,cov,100).T"
   ]
  },
  {
   "cell_type": "code",
   "execution_count": 21,
   "metadata": {},
   "outputs": [
    {
     "name": "stdout",
     "output_type": "stream",
     "text": [
      "[ 97.0365046  102.43378806 112.35672092 109.26515438  99.25905786\n",
      "  99.09856799  90.29679469 103.28741641  99.66424437 100.38779473\n",
      " 103.04940486  88.8661764   89.58108584  85.06764699 107.70746165\n",
      "  85.82114362  78.30000727 104.75242788  88.67586699 105.06530477\n",
      "  87.51293752  81.54160435 121.55184133  98.92484608  82.34229743\n",
      "  90.91024852  93.92708197 104.53527847  95.60054852  95.14199902\n",
      "  96.1186936   86.86999997  96.83759528 114.44682296  88.92425458\n",
      " 113.02638356 101.40623854  94.95606027  99.01836388 104.4146698\n",
      " 105.12201829  87.35352705 103.78096509 127.24441978 104.70858933\n",
      "  96.30995809 105.96695307  89.96367208 104.37154062 108.85515578\n",
      "  92.85963907  87.95352677  94.75572981  88.08188451 105.22133358\n",
      " 102.16750882  85.18981603  97.94157649  98.0240244   91.49756209\n",
      "  82.76308264  98.50272091  85.72096369 105.13836628  96.80406828\n",
      "  97.3701614   92.4694653  103.72973631  91.1006863   86.26861781\n",
      " 108.53050087  97.96815376  76.83335586  97.04345741  89.03903437\n",
      "  97.23150869  94.96492048 111.49093883  88.43726558 102.85186139\n",
      "  77.53403425 109.2370335   98.46031577 106.40834787  98.38007756\n",
      "  94.51203637  88.95887171  95.14221507 106.59140658  98.97535219\n",
      " 101.77244007  85.17267341 100.74254272  91.86932511  92.31229403\n",
      "  98.92209438  83.17697885 102.03397016  91.21549474 104.71186484] [76.42049545 67.26159719 74.90611655 76.95320127 55.50617346 85.53079811\n",
      " 76.62083547 73.28458587 61.06280866 91.4773175  74.91465677 87.88894718\n",
      " 64.24163258 58.46991283 79.61695573 85.45189744 64.35930343 55.70674235\n",
      " 72.34439216 71.21797124 60.76167833 75.58161804 73.39728288 71.60360742\n",
      " 67.78906525 93.79740017 80.12907419 69.65272006 79.10924022 87.90191457\n",
      " 55.81421455 64.72455892 82.98258824 71.81947061 76.10220004 73.18429795\n",
      " 63.0100631  74.58270824 66.96485798 74.42427594 60.61828551 69.45023354\n",
      " 85.62642228 71.72701482 81.43610149 44.12003432 64.66172394 89.22571589\n",
      " 77.83729096 75.14892919 80.29898007 71.5245672  77.13660673 60.07094639\n",
      " 67.98035166 73.53001092 67.46971552 72.3333375  78.85425123 76.8241882\n",
      " 89.80694612 75.5957345  69.53962231 60.08942418 75.087811   54.36375415\n",
      " 73.75376198 67.72007435 50.53295235 53.84477565 76.87789805 68.2441377\n",
      " 77.60992142 78.61659625 81.47050787 75.41421965 41.77806759 72.36639471\n",
      " 59.45286772 79.13653706 59.22344054 57.71056709 81.49472459 52.32595339\n",
      " 71.54737588 68.76237281 90.48048116 82.19322774 99.16758044 63.92643614\n",
      " 70.67440413 58.27857153 90.11668483 89.32201811 67.26417041 58.92507544\n",
      " 81.73868298 84.87799303 64.52574076 76.59279869]\n"
     ]
    }
   ],
   "source": [
    "print(x1,y1)"
   ]
  },
  {
   "cell_type": "code",
   "execution_count": 22,
   "metadata": {},
   "outputs": [
    {
     "name": "stdout",
     "output_type": "stream",
     "text": [
      "[45.68460612 34.83210575 45.61445449 60.88068606 51.37724984 61.88910849\n",
      " 54.18829285 35.65555462 31.58290189 39.57859354 68.88452731 54.78771196\n",
      " 55.27075372 66.41559858 25.8636367  44.89343609 50.5413793  48.47240747\n",
      " 53.34339086 39.48591216 48.38351261 41.27087777 33.39252045 33.94678104\n",
      " 55.82066444 48.59248824 59.69216904 47.95405461 60.03022754 30.04231908\n",
      " 43.53719891 37.97658103 44.19265044 48.66070031 50.67959389 33.04137645\n",
      " 55.0476457  60.86761002 32.31801253 38.9905064  43.94645853 38.07428158\n",
      " 62.25457624 53.52300496 40.04826535 52.58425208 47.52243663 46.35297785\n",
      " 39.37053375 54.92975445 44.53138219 46.16214534 33.15216848 32.85832358\n",
      " 61.16752485 53.33683413 71.20790612 38.9528566  41.2025694  62.99815711\n",
      " 34.45826552 68.16626155 72.93197022 50.56496242 24.78822593 53.83015697\n",
      " 63.96059861 45.08469183 49.03866563 55.39176236 60.38807949 48.38915636\n",
      " 53.53674499 53.0150062  48.86475113 47.23773438 45.03590707 47.91140677\n",
      " 23.92745583 41.47095537 45.92173265 44.58798525 36.573713   44.6632693\n",
      " 53.29788713 68.4129043  34.28954888 40.00075588 47.42801309 37.71735562\n",
      " 40.73539622 47.13775329 48.58121573 51.80228342 54.99827212 61.03078499\n",
      " 25.16231251 47.97593152 45.03335227 33.59163931] [55.78606404 44.39744597 51.61416931 48.97292566 45.75096051 56.26310042\n",
      " 38.60020273 56.57723132 18.56313106 50.71978794 33.28370453 49.89198182\n",
      " 27.40144243 56.07258544 36.49224566 60.35074069 44.07677134 31.85937248\n",
      " 50.22400315 41.91770339 31.65985154 38.29657173 50.05883371 41.89341574\n",
      " 45.35570542 51.24646524 53.72029847 65.99643349 66.87005022 51.35114905\n",
      " 32.54461222 53.31436361 38.25201618 38.87511765 49.74432099 38.16831577\n",
      " 58.87316919 44.6546754  41.95226003 45.587624   41.64333973 42.76733811\n",
      " 59.34653291 57.8237527  51.98611336 50.91380756 34.97142096 33.79186746\n",
      " 59.99993521 55.83893715 55.2574896  42.93195836 36.33580531 49.18164502\n",
      " 51.30554797 51.69559679 36.66941053 41.65037259 63.97548453 42.42245338\n",
      " 55.12854074 44.01850962 69.97117732 49.69689941 39.24122375 47.40298249\n",
      " 52.2644656  32.74011684 45.36976353 51.32872721 58.64926227 54.75845209\n",
      " 41.524541   50.48965293 40.92406277 48.38050054 47.54406222 47.54308677\n",
      " 44.64436612 45.83175983 55.39589637 33.80942223 28.74511518 49.69275693\n",
      " 55.04457881 62.05458069 51.09525818 31.20832514 33.56351967 60.24580436\n",
      " 52.89819625 66.92742292 38.87013681 59.64299661 41.09843553 68.73066619\n",
      " 31.40262332 59.56754897 38.15219041 52.84048514]\n"
     ]
    }
   ],
   "source": [
    "print(x2,y2)"
   ]
  },
  {
   "cell_type": "code",
   "execution_count": 75,
   "metadata": {},
   "outputs": [],
   "source": [
    "x=np.append(x1,x2)\n",
    "y=np.append(y1,y2)"
   ]
  },
  {
   "cell_type": "code",
   "execution_count": 81,
   "metadata": {},
   "outputs": [
    {
     "name": "stdout",
     "output_type": "stream",
     "text": [
      "(200, 1) (200, 1)\n"
     ]
    }
   ],
   "source": [
    "print(x.shape,y.shape)"
   ]
  },
  {
   "cell_type": "code",
   "execution_count": 26,
   "metadata": {},
   "outputs": [
    {
     "data": {
      "text/plain": [
       "<matplotlib.collections.PathCollection at 0x7fc6831824e0>"
      ]
     },
     "execution_count": 26,
     "metadata": {},
     "output_type": "execute_result"
    },
    {
     "data": {
      "image/png": "[encoded data removed]",
      "text/plain": [
       "<Figure size 432x288 with 1 Axes>"
      ]
     },
     "metadata": {},
     "output_type": "display_data"
    }
   ],
   "source": [
    "plt.scatter(x,y)"
   ]
  },
  {
   "cell_type": "code",
   "execution_count": 52,
   "metadata": {},
   "outputs": [],
   "source": [
    "X=np.array(zip(x,y))"
   ]
  },
  {
   "cell_type": "code",
   "execution_count": 53,
   "metadata": {},
   "outputs": [],
   "source": [
    "kmeans=KMeans(n_clusters=2)"
   ]
  },
  {
   "cell_type": "code",
   "execution_count": 54,
   "metadata": {},
   "outputs": [
    {
     "ename": "TypeError",
     "evalue": "float() argument must be a string or a number, not 'zip'",
     "output_type": "error",
     "traceback": [
      "\u001b[0;31m---------------------------------------------------------------------------\u001b[0m",
      "\u001b[0;31mTypeError\u001b[0m                                 Traceback (most recent call last)",
      "\u001b[0;32m<ipython-input-54-28568fcd941d>\u001b[0m in \u001b[0;36m<module>\u001b[0;34m()\u001b[0m\n\u001b[0;32m----> 1\u001b[0;31m \u001b[0mkmeans\u001b[0m\u001b[0;34m.\u001b[0m\u001b[0mfit\u001b[0m\u001b[0;34m(\u001b[0m\u001b[0mX\u001b[0m\u001b[0;34m)\u001b[0m\u001b[0;34m\u001b[0m\u001b[0m\n\u001b[0m",
      "\u001b[0;32m~/anaconda3/lib/python3.6/site-packages/sklearn/cluster/k_means_.py\u001b[0m in \u001b[0;36mfit\u001b[0;34m(self, X, y)\u001b[0m\n\u001b[1;32m    885\u001b[0m         \"\"\"\n\u001b[1;32m    886\u001b[0m         \u001b[0mrandom_state\u001b[0m \u001b[0;34m=\u001b[0m \u001b[0mcheck_random_state\u001b[0m\u001b[0;34m(\u001b[0m\u001b[0mself\u001b[0m\u001b[0;34m.\u001b[0m\u001b[0mrandom_state\u001b[0m\u001b[0;34m)\u001b[0m\u001b[0;34m\u001b[0m\u001b[0m\n\u001b[0;32m--> 887\u001b[0;31m         \u001b[0mX\u001b[0m \u001b[0;34m=\u001b[0m \u001b[0mself\u001b[0m\u001b[0;34m.\u001b[0m\u001b[0m_check_fit_data\u001b[0m\u001b[0;34m(\u001b[0m\u001b[0mX\u001b[0m\u001b[0;34m)\u001b[0m\u001b[0;34m\u001b[0m\u001b[0m\n\u001b[0m\u001b[1;32m    888\u001b[0m \u001b[0;34m\u001b[0m\u001b[0m\n\u001b[1;32m    889\u001b[0m         \u001b[0mself\u001b[0m\u001b[0;34m.\u001b[0m\u001b[0mcluster_centers_\u001b[0m\u001b[0;34m,\u001b[0m \u001b[0mself\u001b[0m\u001b[0;34m.\u001b[0m\u001b[0mlabels_\u001b[0m\u001b[0;34m,\u001b[0m \u001b[0mself\u001b[0m\u001b[0;34m.\u001b[0m\u001b[0minertia_\u001b[0m\u001b[0;34m,\u001b[0m \u001b[0mself\u001b[0m\u001b[0;34m.\u001b[0m\u001b[0mn_iter_\u001b[0m \u001b[0;34m=\u001b[0m\u001b[0;31m \u001b[0m\u001b[0;31m\\\u001b[0m\u001b[0;34m\u001b[0m\u001b[0m\n",
      "\u001b[0;32m~/anaconda3/lib/python3.6/site-packages/sklearn/cluster/k_means_.py\u001b[0m in \u001b[0;36m_check_fit_data\u001b[0;34m(self, X)\u001b[0m\n\u001b[1;32m    856\u001b[0m     \u001b[0;32mdef\u001b[0m \u001b[0m_check_fit_data\u001b[0m\u001b[0;34m(\u001b[0m\u001b[0mself\u001b[0m\u001b[0;34m,\u001b[0m \u001b[0mX\u001b[0m\u001b[0;34m)\u001b[0m\u001b[0;34m:\u001b[0m\u001b[0;34m\u001b[0m\u001b[0m\n\u001b[1;32m    857\u001b[0m         \u001b[0;34m\"\"\"Verify that the number of samples given is larger than k\"\"\"\u001b[0m\u001b[0;34m\u001b[0m\u001b[0m\n\u001b[0;32m--> 858\u001b[0;31m         \u001b[0mX\u001b[0m \u001b[0;34m=\u001b[0m \u001b[0mcheck_array\u001b[0m\u001b[0;34m(\u001b[0m\u001b[0mX\u001b[0m\u001b[0;34m,\u001b[0m \u001b[0maccept_sparse\u001b[0m\u001b[0;34m=\u001b[0m\u001b[0;34m'csr'\u001b[0m\u001b[0;34m,\u001b[0m \u001b[0mdtype\u001b[0m\u001b[0;34m=\u001b[0m\u001b[0;34m[\u001b[0m\u001b[0mnp\u001b[0m\u001b[0;34m.\u001b[0m\u001b[0mfloat64\u001b[0m\u001b[0;34m,\u001b[0m \u001b[0mnp\u001b[0m\u001b[0;34m.\u001b[0m\u001b[0mfloat32\u001b[0m\u001b[0;34m]\u001b[0m\u001b[0;34m)\u001b[0m\u001b[0;34m\u001b[0m\u001b[0m\n\u001b[0m\u001b[1;32m    859\u001b[0m         \u001b[0;32mif\u001b[0m \u001b[0mX\u001b[0m\u001b[0;34m.\u001b[0m\u001b[0mshape\u001b[0m\u001b[0;34m[\u001b[0m\u001b[0;36m0\u001b[0m\u001b[0;34m]\u001b[0m \u001b[0;34m<\u001b[0m \u001b[0mself\u001b[0m\u001b[0;34m.\u001b[0m\u001b[0mn_clusters\u001b[0m\u001b[0;34m:\u001b[0m\u001b[0;34m\u001b[0m\u001b[0m\n\u001b[1;32m    860\u001b[0m             raise ValueError(\"n_samples=%d should be >= n_clusters=%d\" % (\n",
      "\u001b[0;32m~/anaconda3/lib/python3.6/site-packages/sklearn/utils/validation.py\u001b[0m in \u001b[0;36mcheck_array\u001b[0;34m(array, accept_sparse, dtype, order, copy, force_all_finite, ensure_2d, allow_nd, ensure_min_samples, ensure_min_features, warn_on_dtype, estimator)\u001b[0m\n\u001b[1;32m    431\u001b[0m                                       force_all_finite)\n\u001b[1;32m    432\u001b[0m     \u001b[0;32melse\u001b[0m\u001b[0;34m:\u001b[0m\u001b[0;34m\u001b[0m\u001b[0m\n\u001b[0;32m--> 433\u001b[0;31m         \u001b[0marray\u001b[0m \u001b[0;34m=\u001b[0m \u001b[0mnp\u001b[0m\u001b[0;34m.\u001b[0m\u001b[0marray\u001b[0m\u001b[0;34m(\u001b[0m\u001b[0marray\u001b[0m\u001b[0;34m,\u001b[0m \u001b[0mdtype\u001b[0m\u001b[0;34m=\u001b[0m\u001b[0mdtype\u001b[0m\u001b[0;34m,\u001b[0m \u001b[0morder\u001b[0m\u001b[0;34m=\u001b[0m\u001b[0morder\u001b[0m\u001b[0;34m,\u001b[0m \u001b[0mcopy\u001b[0m\u001b[0;34m=\u001b[0m\u001b[0mcopy\u001b[0m\u001b[0;34m)\u001b[0m\u001b[0;34m\u001b[0m\u001b[0m\n\u001b[0m\u001b[1;32m    434\u001b[0m \u001b[0;34m\u001b[0m\u001b[0m\n\u001b[1;32m    435\u001b[0m         \u001b[0;32mif\u001b[0m \u001b[0mensure_2d\u001b[0m\u001b[0;34m:\u001b[0m\u001b[0;34m\u001b[0m\u001b[0m\n",
      "\u001b[0;31mTypeError\u001b[0m: float() argument must be a string or a number, not 'zip'"
     ]
    }
   ],
   "source": [
    "kmeans.fit(X)"
   ]
  },
  {
   "cell_type": "code",
   "execution_count": 85,
   "metadata": {},
   "outputs": [],
   "source": [
    "x=x.reshape(x.shape[0],1)\n",
    "y=y.reshape(y.shape[0],1)\n",
    "X=np.concatenate((x,y),axis=1)\n"
   ]
  },
  {
   "cell_type": "code",
   "execution_count": 86,
   "metadata": {},
   "outputs": [
    {
     "data": {
      "text/plain": [
       "KMeans(algorithm='auto', copy_x=True, init='k-means++', max_iter=300,\n",
       "    n_clusters=2, n_init=10, n_jobs=1, precompute_distances='auto',\n",
       "    random_state=None, tol=0.0001, verbose=0)"
      ]
     },
     "execution_count": 86,
     "metadata": {},
     "output_type": "execute_result"
    }
   ],
   "source": [
    "kmeans.fit(X)"
   ]
  },
  {
   "cell_type": "code",
   "execution_count": 87,
   "metadata": {},
   "outputs": [],
   "source": [
    "label=kmeans.labels_"
   ]
  },
  {
   "cell_type": "code",
   "execution_count": 89,
   "metadata": {},
   "outputs": [],
   "source": [
    "cent=kmeans.cluster_centers_"
   ]
  },
  {
   "cell_type": "code",
   "execution_count": 91,
   "metadata": {},
   "outputs": [
    {
     "name": "stdout",
     "output_type": "stream",
     "text": [
      "[0 0 0 0 0 0 0 0 0 0 0 0 0 0 0 0 0 0 0 0 0 0 0 0 0 0 0 0 0 0 0 0 0 0 0 0 0\n",
      " 0 0 0 0 0 0 0 0 0 0 0 0 0 0 0 0 0 0 0 0 0 0 0 0 0 0 0 0 0 0 0 0 0 0 0 0 0\n",
      " 0 0 0 0 0 0 0 0 0 0 0 0 0 0 0 0 0 0 0 0 0 0 0 0 0 0 1 1 1 1 1 1 1 1 1 1 1\n",
      " 1 1 1 1 1 1 1 1 1 1 1 1 1 1 1 1 1 1 1 1 1 1 1 1 1 1 1 1 1 1 1 1 1 1 1 1 1\n",
      " 1 1 1 1 1 1 1 1 1 1 1 1 1 1 0 1 1 1 1 1 1 1 1 1 1 1 1 1 1 1 1 1 1 1 1 1 1\n",
      " 1 1 1 1 1 1 1 1 1 1 1 1 1 1 1] [[96.81851428 72.10757789]\n",
      " [47.08948588 47.13339964]]\n"
     ]
    }
   ],
   "source": [
    "print(label,cent)"
   ]
  },
  {
   "cell_type": "code",
   "execution_count": 117,
   "metadata": {},
   "outputs": [
    {
     "data": {
      "text/plain": [
       "<matplotlib.collections.PathCollection at 0x7fc67a3b8ba8>"
      ]
     },
     "execution_count": 117,
     "metadata": {},
     "output_type": "execute_result"
    },
    {
     "data": {
      "image/png": "[encoded data removed]",
      "text/plain": [
       "<Figure size 432x288 with 1 Axes>"
      ]
     },
     "metadata": {},
     "output_type": "display_data"
    }
   ],
   "source": [
    "colors=['g.','r.']\n",
    "\n",
    "for i in range(len(X)):\n",
    "    plt.plot(X[i,0],X[i,1],colors[label[i]],markersize=10)\n",
    "plt.scatter(cent[:,0],cent[:,1],marker='x',s=200,zorder=100)"
   ]
  },
  {
   "cell_type": "code",
   "execution_count": null,
   "metadata": {},
   "outputs": [],
   "source": []
  }
 ],
 "metadata": {
  "kernelspec": {
   "display_name": "Python 3",
   "language": "python",
   "name": "python3"
  },
  "language_info": {
   "codemirror_mode": {
    "name": "ipython",
    "version": 3
   },
   "file_extension": ".py",
   "mimetype": "text/x-python",
   "name": "python",
   "nbconvert_exporter": "python",
   "pygments_lexer": "ipython3",
   "version": "3.6.5"
  }
 },
 "nbformat": 4,
 "nbformat_minor": 2
}
