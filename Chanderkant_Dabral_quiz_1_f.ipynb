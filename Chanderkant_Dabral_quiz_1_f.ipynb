{
  "nbformat": 4,
  "nbformat_minor": 0,
  "metadata": {
    "colab": {
      "name": "Chanderkant Dabral - quiz_1_f.ipynb",
      "version": "0.3.2",
      "provenance": [],
      "collapsed_sections": [],
      "include_colab_link": true
    },
    "language_info": {
      "codemirror_mode": {
        "name": "ipython",
        "version": 3
      },
      "file_extension": ".py",
      "mimetype": "text/x-python",
      "name": "python",
      "nbconvert_exporter": "python",
      "pygments_lexer": "ipython3",
      "version": "3.6.8"
    },
    "kernelspec": {
      "display_name": "Python 3",
      "language": "python",
      "name": "python3"
    }
  },
  "cells": [
    {
      "cell_type": "markdown",
      "metadata": {
        "id": "view-in-github",
        "colab_type": "text"
      },
      "source": [
        "<a href=\"https://colab.research.google.com/github/CKDabral/M-L-Exercise/blob/master/Chanderkant_Dabral_quiz_1_f.ipynb\" target=\"_parent\"><img src=\"https://colab.research.google.com/assets/colab-badge.svg\" alt=\"Open In Colab\"/></a>"
      ]
    },
    {
      "cell_type": "markdown",
      "metadata": {
        "id": "8C-hJSnQKfjC",
        "colab_type": "text"
      },
      "source": [
        "### 1\n",
        "Create an integer array of shape(5, 2) from a range between 100 to 200 such that the difference between each element is 10."
      ]
    },
    {
      "cell_type": "code",
      "metadata": {
        "id": "cHzRNHm8KfjE",
        "colab_type": "code",
        "colab": {
          "base_uri": "https://localhost:8080/",
          "height": 102
        },
        "outputId": "5b8b6ee1-51d2-48cd-9ebb-2f618d0f2baa"
      },
      "source": [
        "import numpy as np\n",
        "### Your Code Here\n",
        "a=np.random.randint(100,200,size=(5,2))\n",
        "for i in range(5):\n",
        "  a[i,1]=a[i,0]+10\n",
        "print(a)"
      ],
      "execution_count": 31,
      "outputs": [
        {
          "output_type": "stream",
          "text": [
            "[[122 132]\n",
            " [175 185]\n",
            " [128 138]\n",
            " [164 174]\n",
            " [194 204]]\n"
          ],
          "name": "stdout"
        }
      ]
    },
    {
      "cell_type": "markdown",
      "metadata": {
        "id": "FaIoovjXKfjI",
        "colab_type": "text"
      },
      "source": [
        "### 2\n",
        "Given a numpy array a, of shape (m, n) m>=3, n>=3. Write a function to return an array consisting of the elements in 3rd column of each row."
      ]
    },
    {
      "cell_type": "code",
      "metadata": {
        "id": "_pYB7OQBKfjJ",
        "colab_type": "code",
        "colab": {}
      },
      "source": [
        "### Your Code here\n",
        "def fun(a):\n",
        "  if m<3 or n<3:\n",
        "    return None\n",
        "  return a[:,2]\n"
      ],
      "execution_count": 0,
      "outputs": []
    },
    {
      "cell_type": "markdown",
      "metadata": {
        "id": "mCAygCmPKfjN",
        "colab_type": "text"
      },
      "source": [
        "### 3\n",
        "Write a function which does the following. Given a numpy array $a$ of shape (m, n), index $i$ and an array $b$ of shape (m, ). Replace the $i_{th}$ column of $a$ with the array $b$  "
      ]
    },
    {
      "cell_type": "code",
      "metadata": {
        "id": "eix-dImzKfjO",
        "colab_type": "code",
        "colab": {}
      },
      "source": [
        "### Your Code Here\n",
        "def rep(a,i,b):\n",
        "  a[:,i]=b\n",
        "  return a\n"
      ],
      "execution_count": 0,
      "outputs": []
    },
    {
      "cell_type": "markdown",
      "metadata": {
        "id": "tGok9LbKKfjR",
        "colab_type": "text"
      },
      "source": [
        "### 4\n",
        "Write a function which does the following. Given a numpy array $a$ of shape (m, ) another numpy array $b$ of shape (n,). Return an array of elements which are common to both $a$ and $b$"
      ]
    },
    {
      "cell_type": "code",
      "metadata": {
        "id": "rvJXNrfYKfjS",
        "colab_type": "code",
        "colab": {}
      },
      "source": [
        "### Your Code Here\n",
        "def com(a,b):\n",
        "  set1=set(a)\n",
        "  set2=set(b)\n",
        "  return set1 & set2\n"
      ],
      "execution_count": 0,
      "outputs": []
    },
    {
      "cell_type": "markdown",
      "metadata": {
        "id": "2afHDF-lKfjV",
        "colab_type": "text"
      },
      "source": [
        "### 5\n",
        "Write a function which does the following. Given a numpy array $a$ of shape (m, n) and indices $i$, $j$. Return a numpy array which swaps the columns $i$ and $j$ of $a$"
      ]
    },
    {
      "cell_type": "code",
      "metadata": {
        "id": "Swg0f1fCKfjW",
        "colab_type": "code",
        "colab": {}
      },
      "source": [
        "### Your Code Here\n",
        "def swap(a,i,j):\n",
        "  n=a.shape[1]\n",
        "  if i>n and j>n:\n",
        "    return None\n",
        "  temp=a[:,i].copy()\n",
        "  a[:,i]=a[:,j]\n",
        "  a[:,j]=temp\n",
        "  return a\n",
        "\n"
      ],
      "execution_count": 0,
      "outputs": []
    },
    {
      "cell_type": "code",
      "metadata": {
        "id": "MHKqbbtKN7nA",
        "colab_type": "code",
        "colab": {}
      },
      "source": [
        ""
      ],
      "execution_count": 0,
      "outputs": []
    }
  ]
}